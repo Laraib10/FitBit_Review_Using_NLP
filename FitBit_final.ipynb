{
  "cells": [
    {
      "cell_type": "code",
      "execution_count": null,
      "id": "2b6d7d64-e7ff-4e78-b76b-b4d8bb3a254a",
      "metadata": {
        "id": "2b6d7d64-e7ff-4e78-b76b-b4d8bb3a254a"
      },
      "outputs": [],
      "source": [
        "# Import necessary libraries for data processing, NLP, and API access\n",
        "import pandas as pd\n",
        "import nltk\n",
        "from nltk.corpus import stopwords\n",
        "import regex as re\n",
        "import spacy\n",
        "from transformers import pipeline\n",
        "from tqdm.auto import tqdm\n",
        "from openai import OpenAI"
      ]
    },
    {
      "cell_type": "code",
      "execution_count": null,
      "id": "e43cc25f-bb0e-47e7-9e54-0db6b3fc6fdc",
      "metadata": {
        "id": "e43cc25f-bb0e-47e7-9e54-0db6b3fc6fdc",
        "outputId": "fc0d26e2-7bce-4171-c9fe-831b0f64d52f"
      },
      "outputs": [
        {
          "name": "stdout",
          "output_type": "stream",
          "text": [
            "Defaulting to user installation because normal site-packages is not writeable\n",
            "Requirement already satisfied: openai in c:\\users\\dell\\appdata\\roaming\\python\\python312\\site-packages (1.63.0)\n",
            "Requirement already satisfied: anyio<5,>=3.5.0 in c:\\users\\dell\\appdata\\roaming\\python\\python312\\site-packages (from openai) (4.6.2.post1)\n",
            "Requirement already satisfied: distro<2,>=1.7.0 in c:\\users\\dell\\appdata\\roaming\\python\\python312\\site-packages (from openai) (1.9.0)\n",
            "Requirement already satisfied: httpx<1,>=0.23.0 in c:\\users\\dell\\appdata\\roaming\\python\\python312\\site-packages (from openai) (0.27.2)\n",
            "Requirement already satisfied: jiter<1,>=0.4.0 in c:\\users\\dell\\appdata\\roaming\\python\\python312\\site-packages (from openai) (0.8.2)\n",
            "Requirement already satisfied: pydantic<3,>=1.9.0 in c:\\users\\dell\\appdata\\roaming\\python\\python312\\site-packages (from openai) (2.10.5)\n",
            "Requirement already satisfied: sniffio in c:\\users\\dell\\appdata\\roaming\\python\\python312\\site-packages (from openai) (1.3.1)\n",
            "Requirement already satisfied: tqdm>4 in c:\\users\\dell\\appdata\\roaming\\python\\python312\\site-packages (from openai) (4.67.1)\n",
            "Requirement already satisfied: typing-extensions<5,>=4.11 in c:\\users\\dell\\appdata\\roaming\\python\\python312\\site-packages (from openai) (4.12.2)\n",
            "Requirement already satisfied: idna>=2.8 in c:\\users\\dell\\appdata\\roaming\\python\\python312\\site-packages (from anyio<5,>=3.5.0->openai) (3.10)\n",
            "Requirement already satisfied: certifi in c:\\users\\dell\\appdata\\roaming\\python\\python312\\site-packages (from httpx<1,>=0.23.0->openai) (2024.8.30)\n",
            "Requirement already satisfied: httpcore==1.* in c:\\users\\dell\\appdata\\roaming\\python\\python312\\site-packages (from httpx<1,>=0.23.0->openai) (1.0.7)\n",
            "Requirement already satisfied: h11<0.15,>=0.13 in c:\\users\\dell\\appdata\\roaming\\python\\python312\\site-packages (from httpcore==1.*->httpx<1,>=0.23.0->openai) (0.14.0)\n",
            "Requirement already satisfied: annotated-types>=0.6.0 in c:\\users\\dell\\appdata\\roaming\\python\\python312\\site-packages (from pydantic<3,>=1.9.0->openai) (0.7.0)\n",
            "Requirement already satisfied: pydantic-core==2.27.2 in c:\\users\\dell\\appdata\\roaming\\python\\python312\\site-packages (from pydantic<3,>=1.9.0->openai) (2.27.2)\n",
            "Requirement already satisfied: colorama in c:\\users\\dell\\appdata\\roaming\\python\\python312\\site-packages (from tqdm>4->openai) (0.4.6)\n"
          ]
        },
        {
          "name": "stderr",
          "output_type": "stream",
          "text": [
            "\n",
            "[notice] A new release of pip is available: 24.2 -> 25.0.1\n",
            "[notice] To update, run: python.exe -m pip install --upgrade pip\n"
          ]
        }
      ],
      "source": [
        "!pip install openai"
      ]
    },
    {
      "cell_type": "code",
      "execution_count": null,
      "id": "8d504363-522b-4da9-bb07-e33865d40327",
      "metadata": {
        "id": "8d504363-522b-4da9-bb07-e33865d40327"
      },
      "outputs": [],
      "source": [
        "## Loading Fitbit review dataset into a pandas DataFrame\n",
        "df = pd.read_csv('C:/Users/DELL/Downloads/FitbitReviews/fitbit.csv')"
      ]
    },
    {
      "cell_type": "code",
      "execution_count": null,
      "id": "76971226-c11b-4228-90bd-1cd51f41b666",
      "metadata": {
        "id": "76971226-c11b-4228-90bd-1cd51f41b666",
        "outputId": "2b48b901-39a3-4cf4-cec9-80d4311a481a"
      },
      "outputs": [
        {
          "data": {
            "text/html": [
              "<div>\n",
              "<style scoped>\n",
              "    .dataframe tbody tr th:only-of-type {\n",
              "        vertical-align: middle;\n",
              "    }\n",
              "\n",
              "    .dataframe tbody tr th {\n",
              "        vertical-align: top;\n",
              "    }\n",
              "\n",
              "    .dataframe thead th {\n",
              "        text-align: right;\n",
              "    }\n",
              "</style>\n",
              "<table border=\"1\" class=\"dataframe\">\n",
              "  <thead>\n",
              "    <tr style=\"text-align: right;\">\n",
              "      <th></th>\n",
              "      <th>Unnamed: 0</th>\n",
              "      <th>source</th>\n",
              "      <th>review_id</th>\n",
              "      <th>user_name</th>\n",
              "      <th>review_title</th>\n",
              "      <th>review_description</th>\n",
              "      <th>rating</th>\n",
              "      <th>thumbs_up</th>\n",
              "      <th>review_date</th>\n",
              "    </tr>\n",
              "  </thead>\n",
              "  <tbody>\n",
              "    <tr>\n",
              "      <th>0</th>\n",
              "      <td>0</td>\n",
              "      <td>Google Play</td>\n",
              "      <td>b52e6513-a955-438a-a048-4ae5e1e81abb</td>\n",
              "      <td>Marlena H.</td>\n",
              "      <td>NaN</td>\n",
              "      <td>Horrible change not allowing group challenges</td>\n",
              "      <td>2</td>\n",
              "      <td>0</td>\n",
              "      <td>2023-04-17 15:55:00</td>\n",
              "    </tr>\n",
              "    <tr>\n",
              "      <th>1</th>\n",
              "      <td>1</td>\n",
              "      <td>Google Play</td>\n",
              "      <td>d88c0a81-2611-4f53-b0c4-8f1a2442b6ac</td>\n",
              "      <td>Jeremy Chandler</td>\n",
              "      <td>NaN</td>\n",
              "      <td>Google already starting to sunset features and...</td>\n",
              "      <td>2</td>\n",
              "      <td>0</td>\n",
              "      <td>2023-04-17 15:39:49</td>\n",
              "    </tr>\n",
              "    <tr>\n",
              "      <th>2</th>\n",
              "      <td>2</td>\n",
              "      <td>Google Play</td>\n",
              "      <td>22205257-f36d-464d-ba47-4ef7283071a3</td>\n",
              "      <td>Stu McConnell</td>\n",
              "      <td>NaN</td>\n",
              "      <td>Whatever you have done with the latest update ...</td>\n",
              "      <td>1</td>\n",
              "      <td>0</td>\n",
              "      <td>2023-04-17 15:15:48</td>\n",
              "    </tr>\n",
              "    <tr>\n",
              "      <th>3</th>\n",
              "      <td>3</td>\n",
              "      <td>Google Play</td>\n",
              "      <td>c975c4ab-1a72-4e0f-a579-021ffbbe2d50</td>\n",
              "      <td>Emer Waters</td>\n",
              "      <td>NaN</td>\n",
              "      <td>Challenges with friends/family were removed, s...</td>\n",
              "      <td>1</td>\n",
              "      <td>0</td>\n",
              "      <td>2023-04-17 14:59:02</td>\n",
              "    </tr>\n",
              "    <tr>\n",
              "      <th>4</th>\n",
              "      <td>4</td>\n",
              "      <td>Google Play</td>\n",
              "      <td>17ae54ba-9a79-4ba4-9ad2-a0b1020e6290</td>\n",
              "      <td>erica potts</td>\n",
              "      <td>NaN</td>\n",
              "      <td>Helpful for me to keep track of my steps</td>\n",
              "      <td>5</td>\n",
              "      <td>0</td>\n",
              "      <td>2023-04-17 14:51:12</td>\n",
              "    </tr>\n",
              "  </tbody>\n",
              "</table>\n",
              "</div>"
            ],
            "text/plain": [
              "   Unnamed: 0       source                             review_id  \\\n",
              "0           0  Google Play  b52e6513-a955-438a-a048-4ae5e1e81abb   \n",
              "1           1  Google Play  d88c0a81-2611-4f53-b0c4-8f1a2442b6ac   \n",
              "2           2  Google Play  22205257-f36d-464d-ba47-4ef7283071a3   \n",
              "3           3  Google Play  c975c4ab-1a72-4e0f-a579-021ffbbe2d50   \n",
              "4           4  Google Play  17ae54ba-9a79-4ba4-9ad2-a0b1020e6290   \n",
              "\n",
              "         user_name  review_title  \\\n",
              "0       Marlena H.           NaN   \n",
              "1  Jeremy Chandler           NaN   \n",
              "2    Stu McConnell           NaN   \n",
              "3      Emer Waters           NaN   \n",
              "4      erica potts           NaN   \n",
              "\n",
              "                                  review_description  rating  thumbs_up  \\\n",
              "0      Horrible change not allowing group challenges       2          0   \n",
              "1  Google already starting to sunset features and...       2          0   \n",
              "2  Whatever you have done with the latest update ...       1          0   \n",
              "3  Challenges with friends/family were removed, s...       1          0   \n",
              "4           Helpful for me to keep track of my steps       5          0   \n",
              "\n",
              "           review_date  \n",
              "0  2023-04-17 15:55:00  \n",
              "1  2023-04-17 15:39:49  \n",
              "2  2023-04-17 15:15:48  \n",
              "3  2023-04-17 14:59:02  \n",
              "4  2023-04-17 14:51:12  "
            ]
          },
          "execution_count": 3,
          "metadata": {},
          "output_type": "execute_result"
        }
      ],
      "source": [
        "df.head()"
      ]
    },
    {
      "cell_type": "code",
      "execution_count": null,
      "id": "d1c0f9af-b53a-4761-ba7f-7f9958bfa52c",
      "metadata": {
        "id": "d1c0f9af-b53a-4761-ba7f-7f9958bfa52c"
      },
      "outputs": [],
      "source": [
        "#drop unnecessary column or rows\n",
        "df.drop(['source','review_title','review_date'],axis = 1, inplace = True)"
      ]
    },
    {
      "cell_type": "code",
      "execution_count": null,
      "id": "8ae000ad-bc6b-4d97-b36b-e52a4bfc3567",
      "metadata": {
        "id": "8ae000ad-bc6b-4d97-b36b-e52a4bfc3567",
        "outputId": "aa28fe2d-d655-4145-8c43-cf213e256890"
      },
      "outputs": [
        {
          "data": {
            "text/html": [
              "<div>\n",
              "<style scoped>\n",
              "    .dataframe tbody tr th:only-of-type {\n",
              "        vertical-align: middle;\n",
              "    }\n",
              "\n",
              "    .dataframe tbody tr th {\n",
              "        vertical-align: top;\n",
              "    }\n",
              "\n",
              "    .dataframe thead th {\n",
              "        text-align: right;\n",
              "    }\n",
              "</style>\n",
              "<table border=\"1\" class=\"dataframe\">\n",
              "  <thead>\n",
              "    <tr style=\"text-align: right;\">\n",
              "      <th></th>\n",
              "      <th>Unnamed: 0</th>\n",
              "      <th>review_id</th>\n",
              "      <th>user_name</th>\n",
              "      <th>review_description</th>\n",
              "      <th>rating</th>\n",
              "      <th>thumbs_up</th>\n",
              "    </tr>\n",
              "  </thead>\n",
              "  <tbody>\n",
              "    <tr>\n",
              "      <th>0</th>\n",
              "      <td>0</td>\n",
              "      <td>b52e6513-a955-438a-a048-4ae5e1e81abb</td>\n",
              "      <td>Marlena H.</td>\n",
              "      <td>Horrible change not allowing group challenges</td>\n",
              "      <td>2</td>\n",
              "      <td>0</td>\n",
              "    </tr>\n",
              "    <tr>\n",
              "      <th>1</th>\n",
              "      <td>1</td>\n",
              "      <td>d88c0a81-2611-4f53-b0c4-8f1a2442b6ac</td>\n",
              "      <td>Jeremy Chandler</td>\n",
              "      <td>Google already starting to sunset features and...</td>\n",
              "      <td>2</td>\n",
              "      <td>0</td>\n",
              "    </tr>\n",
              "    <tr>\n",
              "      <th>2</th>\n",
              "      <td>2</td>\n",
              "      <td>22205257-f36d-464d-ba47-4ef7283071a3</td>\n",
              "      <td>Stu McConnell</td>\n",
              "      <td>Whatever you have done with the latest update ...</td>\n",
              "      <td>1</td>\n",
              "      <td>0</td>\n",
              "    </tr>\n",
              "    <tr>\n",
              "      <th>3</th>\n",
              "      <td>3</td>\n",
              "      <td>c975c4ab-1a72-4e0f-a579-021ffbbe2d50</td>\n",
              "      <td>Emer Waters</td>\n",
              "      <td>Challenges with friends/family were removed, s...</td>\n",
              "      <td>1</td>\n",
              "      <td>0</td>\n",
              "    </tr>\n",
              "    <tr>\n",
              "      <th>4</th>\n",
              "      <td>4</td>\n",
              "      <td>17ae54ba-9a79-4ba4-9ad2-a0b1020e6290</td>\n",
              "      <td>erica potts</td>\n",
              "      <td>Helpful for me to keep track of my steps</td>\n",
              "      <td>5</td>\n",
              "      <td>0</td>\n",
              "    </tr>\n",
              "  </tbody>\n",
              "</table>\n",
              "</div>"
            ],
            "text/plain": [
              "   Unnamed: 0                             review_id        user_name  \\\n",
              "0           0  b52e6513-a955-438a-a048-4ae5e1e81abb       Marlena H.   \n",
              "1           1  d88c0a81-2611-4f53-b0c4-8f1a2442b6ac  Jeremy Chandler   \n",
              "2           2  22205257-f36d-464d-ba47-4ef7283071a3    Stu McConnell   \n",
              "3           3  c975c4ab-1a72-4e0f-a579-021ffbbe2d50      Emer Waters   \n",
              "4           4  17ae54ba-9a79-4ba4-9ad2-a0b1020e6290      erica potts   \n",
              "\n",
              "                                  review_description  rating  thumbs_up  \n",
              "0      Horrible change not allowing group challenges       2          0  \n",
              "1  Google already starting to sunset features and...       2          0  \n",
              "2  Whatever you have done with the latest update ...       1          0  \n",
              "3  Challenges with friends/family were removed, s...       1          0  \n",
              "4           Helpful for me to keep track of my steps       5          0  "
            ]
          },
          "execution_count": 6,
          "metadata": {},
          "output_type": "execute_result"
        }
      ],
      "source": [
        "df.head()"
      ]
    },
    {
      "cell_type": "code",
      "execution_count": null,
      "id": "be28516c-11a7-4ae8-8458-c3af4fe3ab19",
      "metadata": {
        "id": "be28516c-11a7-4ae8-8458-c3af4fe3ab19",
        "outputId": "af508671-ff1e-492f-da1c-625757b68aa5"
      },
      "outputs": [
        {
          "name": "stdout",
          "output_type": "stream",
          "text": [
            "<class 'pandas.core.frame.DataFrame'>\n",
            "RangeIndex: 333491 entries, 0 to 333490\n",
            "Data columns (total 6 columns):\n",
            " #   Column              Non-Null Count   Dtype \n",
            "---  ------              --------------   ----- \n",
            " 0   Unnamed: 0          333491 non-null  int64 \n",
            " 1   review_id           333491 non-null  object\n",
            " 2   user_name           333491 non-null  object\n",
            " 3   review_description  333353 non-null  object\n",
            " 4   rating              333491 non-null  int64 \n",
            " 5   thumbs_up           333491 non-null  int64 \n",
            "dtypes: int64(3), object(3)\n",
            "memory usage: 15.3+ MB\n"
          ]
        }
      ],
      "source": [
        "df.info() #checking the datatypes"
      ]
    },
    {
      "cell_type": "code",
      "execution_count": null,
      "id": "9d1c57dc-69a0-4a5d-8b8e-2d5c9ee08ad2",
      "metadata": {
        "id": "9d1c57dc-69a0-4a5d-8b8e-2d5c9ee08ad2"
      },
      "outputs": [],
      "source": [
        "df.drop('Unnamed: 0', axis = 1, inplace = True)"
      ]
    },
    {
      "cell_type": "code",
      "execution_count": null,
      "id": "051f89bd-c955-4973-963b-910d5f6e69e5",
      "metadata": {
        "id": "051f89bd-c955-4973-963b-910d5f6e69e5",
        "outputId": "c05657f9-a241-4be5-da61-14047090286d"
      },
      "outputs": [
        {
          "data": {
            "text/plain": [
              "333491"
            ]
          },
          "execution_count": 10,
          "metadata": {},
          "output_type": "execute_result"
        }
      ],
      "source": [
        "df['review_id'].nunique() #getting all the unique values"
      ]
    },
    {
      "cell_type": "code",
      "execution_count": null,
      "id": "f691711e-edff-48d4-b19e-edf184ef0577",
      "metadata": {
        "id": "f691711e-edff-48d4-b19e-edf184ef0577"
      },
      "outputs": [],
      "source": [
        "# Filter out 5-star ratings to focus on critical feedback\n",
        "df_filtered = df[df['rating']!=5]"
      ]
    },
    {
      "cell_type": "code",
      "execution_count": null,
      "id": "056125df-465a-4337-95ec-8c8f7d4818c7",
      "metadata": {
        "id": "056125df-465a-4337-95ec-8c8f7d4818c7",
        "outputId": "96005087-af52-40a5-a1e8-1a8ae18629cf"
      },
      "outputs": [
        {
          "data": {
            "text/html": [
              "<div>\n",
              "<style scoped>\n",
              "    .dataframe tbody tr th:only-of-type {\n",
              "        vertical-align: middle;\n",
              "    }\n",
              "\n",
              "    .dataframe tbody tr th {\n",
              "        vertical-align: top;\n",
              "    }\n",
              "\n",
              "    .dataframe thead th {\n",
              "        text-align: right;\n",
              "    }\n",
              "</style>\n",
              "<table border=\"1\" class=\"dataframe\">\n",
              "  <thead>\n",
              "    <tr style=\"text-align: right;\">\n",
              "      <th></th>\n",
              "      <th>review_id</th>\n",
              "      <th>user_name</th>\n",
              "      <th>review_description</th>\n",
              "      <th>rating</th>\n",
              "      <th>thumbs_up</th>\n",
              "    </tr>\n",
              "  </thead>\n",
              "  <tbody>\n",
              "    <tr>\n",
              "      <th>0</th>\n",
              "      <td>b52e6513-a955-438a-a048-4ae5e1e81abb</td>\n",
              "      <td>Marlena H.</td>\n",
              "      <td>Horrible change not allowing group challenges</td>\n",
              "      <td>2</td>\n",
              "      <td>0</td>\n",
              "    </tr>\n",
              "    <tr>\n",
              "      <th>1</th>\n",
              "      <td>d88c0a81-2611-4f53-b0c4-8f1a2442b6ac</td>\n",
              "      <td>Jeremy Chandler</td>\n",
              "      <td>Google already starting to sunset features and...</td>\n",
              "      <td>2</td>\n",
              "      <td>0</td>\n",
              "    </tr>\n",
              "    <tr>\n",
              "      <th>2</th>\n",
              "      <td>22205257-f36d-464d-ba47-4ef7283071a3</td>\n",
              "      <td>Stu McConnell</td>\n",
              "      <td>Whatever you have done with the latest update ...</td>\n",
              "      <td>1</td>\n",
              "      <td>0</td>\n",
              "    </tr>\n",
              "    <tr>\n",
              "      <th>3</th>\n",
              "      <td>c975c4ab-1a72-4e0f-a579-021ffbbe2d50</td>\n",
              "      <td>Emer Waters</td>\n",
              "      <td>Challenges with friends/family were removed, s...</td>\n",
              "      <td>1</td>\n",
              "      <td>0</td>\n",
              "    </tr>\n",
              "    <tr>\n",
              "      <th>5</th>\n",
              "      <td>33504376-5d25-4021-b1ba-d04718e5a1eb</td>\n",
              "      <td>Hitesh Sharma</td>\n",
              "      <td>Watch faces not visible in the app, always sho...</td>\n",
              "      <td>1</td>\n",
              "      <td>0</td>\n",
              "    </tr>\n",
              "  </tbody>\n",
              "</table>\n",
              "</div>"
            ],
            "text/plain": [
              "                              review_id        user_name  \\\n",
              "0  b52e6513-a955-438a-a048-4ae5e1e81abb       Marlena H.   \n",
              "1  d88c0a81-2611-4f53-b0c4-8f1a2442b6ac  Jeremy Chandler   \n",
              "2  22205257-f36d-464d-ba47-4ef7283071a3    Stu McConnell   \n",
              "3  c975c4ab-1a72-4e0f-a579-021ffbbe2d50      Emer Waters   \n",
              "5  33504376-5d25-4021-b1ba-d04718e5a1eb    Hitesh Sharma   \n",
              "\n",
              "                                  review_description  rating  thumbs_up  \n",
              "0      Horrible change not allowing group challenges       2          0  \n",
              "1  Google already starting to sunset features and...       2          0  \n",
              "2  Whatever you have done with the latest update ...       1          0  \n",
              "3  Challenges with friends/family were removed, s...       1          0  \n",
              "5  Watch faces not visible in the app, always sho...       1          0  "
            ]
          },
          "execution_count": 14,
          "metadata": {},
          "output_type": "execute_result"
        }
      ],
      "source": [
        "df_filtered.head()"
      ]
    },
    {
      "cell_type": "code",
      "execution_count": null,
      "id": "c1fdd218-5855-47ad-b715-82a70b577b81",
      "metadata": {
        "id": "c1fdd218-5855-47ad-b715-82a70b577b81",
        "outputId": "d79a814b-ba9e-46c7-9775-c89315d22eed"
      },
      "outputs": [
        {
          "data": {
            "text/plain": [
              "review_id             0\n",
              "user_name             0\n",
              "review_description    0\n",
              "rating                0\n",
              "thumbs_up             0\n",
              "dtype: int64"
            ]
          },
          "execution_count": 21,
          "metadata": {},
          "output_type": "execute_result"
        }
      ],
      "source": [
        "df_filtered.isnull().sum() #checking any null values"
      ]
    },
    {
      "cell_type": "code",
      "execution_count": null,
      "id": "dca12aaf-fb34-42e5-ac63-96b2398d20c8",
      "metadata": {
        "id": "dca12aaf-fb34-42e5-ac63-96b2398d20c8",
        "outputId": "373e2d54-c832-4c24-aa22-e8b636c03ea3"
      },
      "outputs": [
        {
          "name": "stderr",
          "output_type": "stream",
          "text": [
            "C:\\Users\\DELL\\AppData\\Local\\Temp\\ipykernel_3548\\2582415459.py:1: SettingWithCopyWarning: \n",
            "A value is trying to be set on a copy of a slice from a DataFrame\n",
            "\n",
            "See the caveats in the documentation: https://pandas.pydata.org/pandas-docs/stable/user_guide/indexing.html#returning-a-view-versus-a-copy\n",
            "  df_filtered.dropna(inplace = True)\n"
          ]
        }
      ],
      "source": [
        "df_filtered.dropna(inplace = True)"
      ]
    },
    {
      "cell_type": "code",
      "execution_count": null,
      "id": "ba63aaec-015d-4012-992e-6012f55d0956",
      "metadata": {
        "id": "ba63aaec-015d-4012-992e-6012f55d0956",
        "outputId": "5aec5658-a365-4dcf-f3ce-f9176cc36601"
      },
      "outputs": [
        {
          "data": {
            "text/plain": [
              "(203636, 5)"
            ]
          },
          "execution_count": 22,
          "metadata": {},
          "output_type": "execute_result"
        }
      ],
      "source": [
        "df_filtered.shape"
      ]
    },
    {
      "cell_type": "code",
      "execution_count": null,
      "id": "ef8b8fb7-aa1d-4abb-bc3c-1f328c60dc03",
      "metadata": {
        "id": "ef8b8fb7-aa1d-4abb-bc3c-1f328c60dc03"
      },
      "outputs": [],
      "source": [
        "df_processed = df_filtered[df_filtered['review_description'].str.split().str.len() > 5]"
      ]
    },
    {
      "cell_type": "code",
      "execution_count": null,
      "id": "4d8d73e7-0720-41fc-9273-1c6440967252",
      "metadata": {
        "id": "4d8d73e7-0720-41fc-9273-1c6440967252",
        "outputId": "277ca2e0-7aef-4420-b835-b2d1b5feb963"
      },
      "outputs": [
        {
          "data": {
            "text/plain": [
              "(178995, 5)"
            ]
          },
          "execution_count": 26,
          "metadata": {},
          "output_type": "execute_result"
        }
      ],
      "source": [
        "df_processed.shape"
      ]
    },
    {
      "cell_type": "code",
      "execution_count": null,
      "id": "28d2ea30-ec85-4f9f-8ea0-795f255675ad",
      "metadata": {
        "id": "28d2ea30-ec85-4f9f-8ea0-795f255675ad"
      },
      "outputs": [],
      "source": [
        "df_processed.to_csv('FitBitReviews_updated.csv',index = False)"
      ]
    },
    {
      "cell_type": "code",
      "execution_count": null,
      "id": "e8da21b5-c541-4506-82b1-0335af077de8",
      "metadata": {
        "id": "e8da21b5-c541-4506-82b1-0335af077de8"
      },
      "outputs": [],
      "source": [
        "df_filtered = pd.read_csv(r\"C:\\Users\\DELL\\FitBitReviews_updated.csv\")"
      ]
    },
    {
      "cell_type": "code",
      "execution_count": null,
      "id": "d8f9ca4d-ef9e-46fa-9b90-b772481c92b1",
      "metadata": {
        "id": "d8f9ca4d-ef9e-46fa-9b90-b772481c92b1",
        "outputId": "87ff9047-b544-4061-cbf6-a04a49379f0a"
      },
      "outputs": [
        {
          "data": {
            "text/html": [
              "<div>\n",
              "<style scoped>\n",
              "    .dataframe tbody tr th:only-of-type {\n",
              "        vertical-align: middle;\n",
              "    }\n",
              "\n",
              "    .dataframe tbody tr th {\n",
              "        vertical-align: top;\n",
              "    }\n",
              "\n",
              "    .dataframe thead th {\n",
              "        text-align: right;\n",
              "    }\n",
              "</style>\n",
              "<table border=\"1\" class=\"dataframe\">\n",
              "  <thead>\n",
              "    <tr style=\"text-align: right;\">\n",
              "      <th></th>\n",
              "      <th>review_id</th>\n",
              "      <th>user_name</th>\n",
              "      <th>review_description</th>\n",
              "      <th>rating</th>\n",
              "      <th>thumbs_up</th>\n",
              "    </tr>\n",
              "  </thead>\n",
              "  <tbody>\n",
              "    <tr>\n",
              "      <th>0</th>\n",
              "      <td>b52e6513-a955-438a-a048-4ae5e1e81abb</td>\n",
              "      <td>Marlena H.</td>\n",
              "      <td>Horrible change not allowing group challenges</td>\n",
              "      <td>2</td>\n",
              "      <td>0</td>\n",
              "    </tr>\n",
              "    <tr>\n",
              "      <th>1</th>\n",
              "      <td>d88c0a81-2611-4f53-b0c4-8f1a2442b6ac</td>\n",
              "      <td>Jeremy Chandler</td>\n",
              "      <td>Google already starting to sunset features and...</td>\n",
              "      <td>2</td>\n",
              "      <td>0</td>\n",
              "    </tr>\n",
              "    <tr>\n",
              "      <th>2</th>\n",
              "      <td>22205257-f36d-464d-ba47-4ef7283071a3</td>\n",
              "      <td>Stu McConnell</td>\n",
              "      <td>Whatever you have done with the latest update ...</td>\n",
              "      <td>1</td>\n",
              "      <td>0</td>\n",
              "    </tr>\n",
              "    <tr>\n",
              "      <th>3</th>\n",
              "      <td>c975c4ab-1a72-4e0f-a579-021ffbbe2d50</td>\n",
              "      <td>Emer Waters</td>\n",
              "      <td>Challenges with friends/family were removed, s...</td>\n",
              "      <td>1</td>\n",
              "      <td>0</td>\n",
              "    </tr>\n",
              "    <tr>\n",
              "      <th>4</th>\n",
              "      <td>33504376-5d25-4021-b1ba-d04718e5a1eb</td>\n",
              "      <td>Hitesh Sharma</td>\n",
              "      <td>Watch faces not visible in the app, always sho...</td>\n",
              "      <td>1</td>\n",
              "      <td>0</td>\n",
              "    </tr>\n",
              "  </tbody>\n",
              "</table>\n",
              "</div>"
            ],
            "text/plain": [
              "                              review_id        user_name  \\\n",
              "0  b52e6513-a955-438a-a048-4ae5e1e81abb       Marlena H.   \n",
              "1  d88c0a81-2611-4f53-b0c4-8f1a2442b6ac  Jeremy Chandler   \n",
              "2  22205257-f36d-464d-ba47-4ef7283071a3    Stu McConnell   \n",
              "3  c975c4ab-1a72-4e0f-a579-021ffbbe2d50      Emer Waters   \n",
              "4  33504376-5d25-4021-b1ba-d04718e5a1eb    Hitesh Sharma   \n",
              "\n",
              "                                  review_description  rating  thumbs_up  \n",
              "0      Horrible change not allowing group challenges       2          0  \n",
              "1  Google already starting to sunset features and...       2          0  \n",
              "2  Whatever you have done with the latest update ...       1          0  \n",
              "3  Challenges with friends/family were removed, s...       1          0  \n",
              "4  Watch faces not visible in the app, always sho...       1          0  "
            ]
          },
          "execution_count": 4,
          "metadata": {},
          "output_type": "execute_result"
        }
      ],
      "source": [
        "df_filtered.head()"
      ]
    },
    {
      "cell_type": "code",
      "execution_count": null,
      "id": "9fb12bc4-841d-4380-b6bb-0d3c17f8ee51",
      "metadata": {
        "id": "9fb12bc4-841d-4380-b6bb-0d3c17f8ee51",
        "outputId": "e18fe267-af8d-4a46-eb0a-169b87691614"
      },
      "outputs": [
        {
          "data": {
            "text/html": [
              "<div>\n",
              "<style scoped>\n",
              "    .dataframe tbody tr th:only-of-type {\n",
              "        vertical-align: middle;\n",
              "    }\n",
              "\n",
              "    .dataframe tbody tr th {\n",
              "        vertical-align: top;\n",
              "    }\n",
              "\n",
              "    .dataframe thead th {\n",
              "        text-align: right;\n",
              "    }\n",
              "</style>\n",
              "<table border=\"1\" class=\"dataframe\">\n",
              "  <thead>\n",
              "    <tr style=\"text-align: right;\">\n",
              "      <th></th>\n",
              "      <th>rating</th>\n",
              "      <th>thumbs_up</th>\n",
              "    </tr>\n",
              "  </thead>\n",
              "  <tbody>\n",
              "    <tr>\n",
              "      <th>count</th>\n",
              "      <td>178995.000000</td>\n",
              "      <td>178995.000000</td>\n",
              "    </tr>\n",
              "    <tr>\n",
              "      <th>mean</th>\n",
              "      <td>2.146311</td>\n",
              "      <td>2.086215</td>\n",
              "    </tr>\n",
              "    <tr>\n",
              "      <th>std</th>\n",
              "      <td>1.187114</td>\n",
              "      <td>17.718597</td>\n",
              "    </tr>\n",
              "    <tr>\n",
              "      <th>min</th>\n",
              "      <td>1.000000</td>\n",
              "      <td>0.000000</td>\n",
              "    </tr>\n",
              "    <tr>\n",
              "      <th>25%</th>\n",
              "      <td>1.000000</td>\n",
              "      <td>0.000000</td>\n",
              "    </tr>\n",
              "    <tr>\n",
              "      <th>50%</th>\n",
              "      <td>2.000000</td>\n",
              "      <td>0.000000</td>\n",
              "    </tr>\n",
              "    <tr>\n",
              "      <th>75%</th>\n",
              "      <td>3.000000</td>\n",
              "      <td>1.000000</td>\n",
              "    </tr>\n",
              "    <tr>\n",
              "      <th>max</th>\n",
              "      <td>4.000000</td>\n",
              "      <td>1303.000000</td>\n",
              "    </tr>\n",
              "  </tbody>\n",
              "</table>\n",
              "</div>"
            ],
            "text/plain": [
              "              rating      thumbs_up\n",
              "count  178995.000000  178995.000000\n",
              "mean        2.146311       2.086215\n",
              "std         1.187114      17.718597\n",
              "min         1.000000       0.000000\n",
              "25%         1.000000       0.000000\n",
              "50%         2.000000       0.000000\n",
              "75%         3.000000       1.000000\n",
              "max         4.000000    1303.000000"
            ]
          },
          "execution_count": 5,
          "metadata": {},
          "output_type": "execute_result"
        }
      ],
      "source": [
        "df_filtered.describe()"
      ]
    },
    {
      "cell_type": "code",
      "execution_count": null,
      "id": "b6df887c-a58f-45f9-867e-8e7230bb9360",
      "metadata": {
        "id": "b6df887c-a58f-45f9-867e-8e7230bb9360",
        "outputId": "002109d5-5efb-47d1-b97f-d2e8753ba12f"
      },
      "outputs": [
        {
          "name": "stderr",
          "output_type": "stream",
          "text": [
            "[nltk_data] Downloading package stopwords to\n",
            "[nltk_data]     C:\\Users\\DELL\\AppData\\Roaming\\nltk_data...\n",
            "[nltk_data]   Package stopwords is already up-to-date!\n"
          ]
        },
        {
          "data": {
            "text/html": [
              "<div>\n",
              "<style scoped>\n",
              "    .dataframe tbody tr th:only-of-type {\n",
              "        vertical-align: middle;\n",
              "    }\n",
              "\n",
              "    .dataframe tbody tr th {\n",
              "        vertical-align: top;\n",
              "    }\n",
              "\n",
              "    .dataframe thead th {\n",
              "        text-align: right;\n",
              "    }\n",
              "</style>\n",
              "<table border=\"1\" class=\"dataframe\">\n",
              "  <thead>\n",
              "    <tr style=\"text-align: right;\">\n",
              "      <th></th>\n",
              "      <th>review_description</th>\n",
              "      <th>cleaned_review</th>\n",
              "    </tr>\n",
              "  </thead>\n",
              "  <tbody>\n",
              "    <tr>\n",
              "      <th>0</th>\n",
              "      <td>Google already starting to sunset features and...</td>\n",
              "      <td>google already starting sunset features replac...</td>\n",
              "    </tr>\n",
              "    <tr>\n",
              "      <th>1</th>\n",
              "      <td>Whatever you have done with the latest update ...</td>\n",
              "      <td>whatever done latest update ruined things yet ...</td>\n",
              "    </tr>\n",
              "    <tr>\n",
              "      <th>2</th>\n",
              "      <td>Challenges with friends/family were removed, s...</td>\n",
              "      <td>challenges friendsfamily removed fitbit pretty...</td>\n",
              "    </tr>\n",
              "    <tr>\n",
              "      <th>3</th>\n",
              "      <td>Watch faces not visible in the app, always sho...</td>\n",
              "      <td>watch faces visible app always shows error oop...</td>\n",
              "    </tr>\n",
              "    <tr>\n",
              "      <th>4</th>\n",
              "      <td>This app used to be pretty good and I always p...</td>\n",
              "      <td>app used pretty good always paid premium remov...</td>\n",
              "    </tr>\n",
              "  </tbody>\n",
              "</table>\n",
              "</div>"
            ],
            "text/plain": [
              "                                  review_description  \\\n",
              "0  Google already starting to sunset features and...   \n",
              "1  Whatever you have done with the latest update ...   \n",
              "2  Challenges with friends/family were removed, s...   \n",
              "3  Watch faces not visible in the app, always sho...   \n",
              "4  This app used to be pretty good and I always p...   \n",
              "\n",
              "                                      cleaned_review  \n",
              "0  google already starting sunset features replac...  \n",
              "1  whatever done latest update ruined things yet ...  \n",
              "2  challenges friendsfamily removed fitbit pretty...  \n",
              "3  watch faces visible app always shows error oop...  \n",
              "4  app used pretty good always paid premium remov...  "
            ]
          },
          "execution_count": 4,
          "metadata": {},
          "output_type": "execute_result"
        }
      ],
      "source": [
        "#Preprocessing and cleaning the Reviews\n",
        "\n",
        "\n",
        "nltk.download('stopwords')\n",
        "stop_words = set(stopwords.words('english'))\n",
        "\n",
        "# Text cleaning function\n",
        "def clean_review(text):\n",
        "    text = str(text).lower()  # Lowercase\n",
        "    text = re.sub(r'[^a-z\\s]', '', text)  # Remove punctuation/numbers\n",
        "    tokens = text.split()  # Tokenize\n",
        "    tokens = [word for word in tokens if word not in stop_words]  # Remove stopwords\n",
        "    return ' '.join(tokens)  # Join back to string\n",
        "\n",
        "# Apply cleaning to the review column\n",
        "df_filtered['cleaned_review'] = df_filtered['review_description'].apply(clean_review)\n",
        "\n",
        "# Remove reviews with 5 or fewer words\n",
        "df_filtered = df_filtered[df_filtered['cleaned_review'].str.split().str.len() > 5].reset_index(drop=True)\n",
        "\n",
        "# Show a sample of cleaned reviews\n",
        "df_filtered[['review_description', 'cleaned_review']].head()\n"
      ]
    },
    {
      "cell_type": "code",
      "execution_count": null,
      "id": "4006f6f6-a4d8-4ca5-bfc1-6b8cb7626c6f",
      "metadata": {
        "id": "4006f6f6-a4d8-4ca5-bfc1-6b8cb7626c6f",
        "outputId": "c912d382-57d8-4e38-8b28-04ad624b4421"
      },
      "outputs": [
        {
          "name": "stdout",
          "output_type": "stream",
          "text": [
            "                                       cleaned_review  \\\n",
            "0   google already starting sunset features replac...   \n",
            "22  since google gotten hands app removed fun comm...   \n",
            "24  android logging food recent frequent tabs list...   \n",
            "26  tap gallery button get oops looks like theres ...   \n",
            "73  rubbish owned google theyve removed challenges...   \n",
            "\n",
            "                       entities  \n",
            "0               [(google, ORG)]  \n",
            "22          [(google, PRODUCT)]  \n",
            "24             [(android, ORG)]  \n",
            "26  [(tap gallery button, ORG)]  \n",
            "73              [(google, ORG)]  \n"
          ]
        }
      ],
      "source": [
        "nlp = spacy.load(\"en_core_web_sm\")\n",
        "\n",
        "# Function to extract product and organization names\n",
        "def extract_entities(text):\n",
        "    doc = nlp(text)\n",
        "    return [(ent.text, ent.label_) for ent in doc.ents if ent.label_ in [\"ORG\", \"PRODUCT\"]]\n",
        "\n",
        "# Apply on the 'cleaned_review' column\n",
        "df_filtered['entities'] = df_filtered['cleaned_review'].apply(extract_entities)\n",
        "\n",
        "# Filter for reviews with extracted entities\n",
        "entity_df = df_filtered[df_filtered['entities'].map(len) > 0]\n",
        "\n",
        "# Preview top 5 results\n",
        "print(entity_df[['cleaned_review', 'entities']].head())"
      ]
    },
    {
      "cell_type": "code",
      "execution_count": null,
      "id": "4568a079-dcfe-402c-9698-e15311ff7406",
      "metadata": {
        "id": "4568a079-dcfe-402c-9698-e15311ff7406",
        "outputId": "cd73255f-d674-4f98-d9af-a14d16a917a1"
      },
      "outputs": [
        {
          "data": {
            "text/html": [
              "<div>\n",
              "<style scoped>\n",
              "    .dataframe tbody tr th:only-of-type {\n",
              "        vertical-align: middle;\n",
              "    }\n",
              "\n",
              "    .dataframe tbody tr th {\n",
              "        vertical-align: top;\n",
              "    }\n",
              "\n",
              "    .dataframe thead th {\n",
              "        text-align: right;\n",
              "    }\n",
              "</style>\n",
              "<table border=\"1\" class=\"dataframe\">\n",
              "  <thead>\n",
              "    <tr style=\"text-align: right;\">\n",
              "      <th></th>\n",
              "      <th>review_id</th>\n",
              "      <th>user_name</th>\n",
              "      <th>review_description</th>\n",
              "      <th>rating</th>\n",
              "      <th>thumbs_up</th>\n",
              "      <th>cleaned_review</th>\n",
              "      <th>entities</th>\n",
              "    </tr>\n",
              "  </thead>\n",
              "  <tbody>\n",
              "    <tr>\n",
              "      <th>0</th>\n",
              "      <td>d88c0a81-2611-4f53-b0c4-8f1a2442b6ac</td>\n",
              "      <td>Jeremy Chandler</td>\n",
              "      <td>Google already starting to sunset features and...</td>\n",
              "      <td>2</td>\n",
              "      <td>0</td>\n",
              "      <td>google already starting sunset features replac...</td>\n",
              "      <td>[(google, ORG)]</td>\n",
              "    </tr>\n",
              "    <tr>\n",
              "      <th>1</th>\n",
              "      <td>22205257-f36d-464d-ba47-4ef7283071a3</td>\n",
              "      <td>Stu McConnell</td>\n",
              "      <td>Whatever you have done with the latest update ...</td>\n",
              "      <td>1</td>\n",
              "      <td>0</td>\n",
              "      <td>whatever done latest update ruined things yet ...</td>\n",
              "      <td>[]</td>\n",
              "    </tr>\n",
              "    <tr>\n",
              "      <th>2</th>\n",
              "      <td>c975c4ab-1a72-4e0f-a579-021ffbbe2d50</td>\n",
              "      <td>Emer Waters</td>\n",
              "      <td>Challenges with friends/family were removed, s...</td>\n",
              "      <td>1</td>\n",
              "      <td>0</td>\n",
              "      <td>challenges friendsfamily removed fitbit pretty...</td>\n",
              "      <td>[]</td>\n",
              "    </tr>\n",
              "    <tr>\n",
              "      <th>3</th>\n",
              "      <td>33504376-5d25-4021-b1ba-d04718e5a1eb</td>\n",
              "      <td>Hitesh Sharma</td>\n",
              "      <td>Watch faces not visible in the app, always sho...</td>\n",
              "      <td>1</td>\n",
              "      <td>0</td>\n",
              "      <td>watch faces visible app always shows error oop...</td>\n",
              "      <td>[]</td>\n",
              "    </tr>\n",
              "    <tr>\n",
              "      <th>4</th>\n",
              "      <td>8f836e12-5adf-46a3-8d1f-e9c1d159d75c</td>\n",
              "      <td>Tegan Laing</td>\n",
              "      <td>This app used to be pretty good and I always p...</td>\n",
              "      <td>1</td>\n",
              "      <td>0</td>\n",
              "      <td>app used pretty good always paid premium remov...</td>\n",
              "      <td>[]</td>\n",
              "    </tr>\n",
              "  </tbody>\n",
              "</table>\n",
              "</div>"
            ],
            "text/plain": [
              "                              review_id        user_name  \\\n",
              "0  d88c0a81-2611-4f53-b0c4-8f1a2442b6ac  Jeremy Chandler   \n",
              "1  22205257-f36d-464d-ba47-4ef7283071a3    Stu McConnell   \n",
              "2  c975c4ab-1a72-4e0f-a579-021ffbbe2d50      Emer Waters   \n",
              "3  33504376-5d25-4021-b1ba-d04718e5a1eb    Hitesh Sharma   \n",
              "4  8f836e12-5adf-46a3-8d1f-e9c1d159d75c      Tegan Laing   \n",
              "\n",
              "                                  review_description  rating  thumbs_up  \\\n",
              "0  Google already starting to sunset features and...       2          0   \n",
              "1  Whatever you have done with the latest update ...       1          0   \n",
              "2  Challenges with friends/family were removed, s...       1          0   \n",
              "3  Watch faces not visible in the app, always sho...       1          0   \n",
              "4  This app used to be pretty good and I always p...       1          0   \n",
              "\n",
              "                                      cleaned_review         entities  \n",
              "0  google already starting sunset features replac...  [(google, ORG)]  \n",
              "1  whatever done latest update ruined things yet ...               []  \n",
              "2  challenges friendsfamily removed fitbit pretty...               []  \n",
              "3  watch faces visible app always shows error oop...               []  \n",
              "4  app used pretty good always paid premium remov...               []  "
            ]
          },
          "execution_count": 12,
          "metadata": {},
          "output_type": "execute_result"
        }
      ],
      "source": [
        "df_filtered.head()"
      ]
    },
    {
      "cell_type": "code",
      "execution_count": null,
      "id": "f3361158-b064-4c5b-b89b-c5eee0ebf924",
      "metadata": {
        "id": "f3361158-b064-4c5b-b89b-c5eee0ebf924"
      },
      "outputs": [],
      "source": [
        "df_filtered.to_csv('NER_Reviews.csv',index = False)"
      ]
    },
    {
      "cell_type": "code",
      "execution_count": null,
      "id": "2577418c-f8f7-4c8d-b330-c1bedd62c02c",
      "metadata": {
        "id": "2577418c-f8f7-4c8d-b330-c1bedd62c02c",
        "outputId": "2b3b54ca-d5df-47d7-c0bc-a8a307233e6a"
      },
      "outputs": [
        {
          "data": {
            "text/plain": [
              "ner_entities\n",
              "[]                  156846\n",
              "[(x, ORG)]              21\n",
              "[(x, MISC)]             19\n",
              "[(al, ORG)]             10\n",
              "[(##idas, MISC)]        10\n",
              "                     ...  \n",
              "[(##ness, ORG)]          1\n",
              "[(mac, MISC)]            1\n",
              "[(##unt, ORG)]           1\n",
              "[(##ca, ORG)]            1\n",
              "[(##pal, ORG)]           1\n",
              "Name: count, Length: 72, dtype: int64"
            ]
          },
          "execution_count": 18,
          "metadata": {},
          "output_type": "execute_result"
        }
      ],
      "source": [
        "df_filtered['ner_entities'].value_counts()"
      ]
    },
    {
      "cell_type": "code",
      "execution_count": null,
      "id": "9b47e86d-05c3-49fb-9d96-660f6da38c4c",
      "metadata": {
        "id": "9b47e86d-05c3-49fb-9d96-660f6da38c4c"
      },
      "outputs": [],
      "source": [
        "df_filtered.to_csv('fitbit_ner.csv',index = False)"
      ]
    },
    {
      "cell_type": "code",
      "execution_count": null,
      "id": "e5ba3f04-32d0-4273-8448-fede8c158cd6",
      "metadata": {
        "id": "e5ba3f04-32d0-4273-8448-fede8c158cd6",
        "outputId": "c6cf276b-cfe3-41c6-9e02-7c0872d59370"
      },
      "outputs": [
        {
          "name": "stdout",
          "output_type": "stream",
          "text": [
            "                                   review_id        user_name  \\\n",
            "0       d88c0a81-2611-4f53-b0c4-8f1a2442b6ac  Jeremy Chandler   \n",
            "1       22205257-f36d-464d-ba47-4ef7283071a3    Stu McConnell   \n",
            "2       c975c4ab-1a72-4e0f-a579-021ffbbe2d50      Emer Waters   \n",
            "3       33504376-5d25-4021-b1ba-d04718e5a1eb    Hitesh Sharma   \n",
            "4       8f836e12-5adf-46a3-8d1f-e9c1d159d75c      Tegan Laing   \n",
            "...                                      ...              ...   \n",
            "157012  efef0980-97c8-4766-879c-7405e7a6583a    A Google user   \n",
            "157013  fc25ff0b-8f0e-43fb-a8b0-2ce993ff1565    A Google user   \n",
            "157014  0c8167e9-537e-408d-a34c-0d03e68a5ef2    A Google user   \n",
            "157015  69d57cdc-168a-44c8-9d78-88e6b81dd283    A Google user   \n",
            "157016  d068a07e-1c40-468f-b7e1-9597f4684ff8    A Google user   \n",
            "\n",
            "                                       review_description  rating  thumbs_up  \\\n",
            "0       Google already starting to sunset features and...       2          0   \n",
            "1       Whatever you have done with the latest update ...       1          0   \n",
            "2       Challenges with friends/family were removed, s...       1          0   \n",
            "3       Watch faces not visible in the app, always sho...       1          0   \n",
            "4       This app used to be pretty good and I always p...       1          0   \n",
            "...                                                   ...     ...        ...   \n",
            "157012  I'm happy to finally see the android mobile ve...       4          0   \n",
            "157013  Very nice interface, but you cannot scan bar c...       3          2   \n",
            "157014  Need to add weights , can't put in my squatz ,...       2          0   \n",
            "157015  This app is useful and seems well done. But it...       3          0   \n",
            "157016  Nice app.  Look forward to more data in the fu...       4          0   \n",
            "\n",
            "                                           cleaned_review  \\\n",
            "0       google already starting sunset features replac...   \n",
            "1       whatever done latest update ruined things yet ...   \n",
            "2       challenges friendsfamily removed fitbit pretty...   \n",
            "3       watch faces visible app always shows error oop...   \n",
            "4       app used pretty good always paid premium remov...   \n",
            "...                                                   ...   \n",
            "157012  im happy finally see android mobile version co...   \n",
            "157013  nice interface cannot scan bar codes add foods...   \n",
            "157014  need add weights cant put squatz add oatz back...   \n",
            "157015  app useful seems well done doesnt solve bigges...   \n",
            "157016                  nice app look forward data future   \n",
            "\n",
            "                   extracted_entities  \n",
            "0       [Apple Watch, Google, google]  \n",
            "1                                  []  \n",
            "2                            [Fitbit]  \n",
            "3                                  []  \n",
            "4                            [Fitbit]  \n",
            "...                               ...  \n",
            "157012                             []  \n",
            "157013                             []  \n",
            "157014                             []  \n",
            "157015                       [Fitbit]  \n",
            "157016                             []  \n",
            "\n",
            "[157017 rows x 7 columns]\n"
          ]
        }
      ],
      "source": [
        "\n",
        "tqdm.pandas()\n",
        "# Load English model (make sure it's downloaded first with: python -m spacy download en_core_web_sm)\n",
        "nlp = spacy.load(\"en_core_web_sm\")\n",
        "custom_entities = [\n",
        "    \"Fitbit\", \"Fitbit Charge 5\", \"Versa 2\", \"Apple Watch\", \"Mi Band 6\", \"Garmin\",\n",
        "    \"Galaxy Watch\", \"Inspire HR\", \"Realme Watch\", \"Honor Band\", \"Noise Colorfit\",'Google','Inspire','Sense'\n",
        "]\n",
        "\n",
        "# Keyword matcher function\n",
        "def keyword_match(doc):\n",
        "    matches = []\n",
        "    for entity in custom_entities:\n",
        "        if entity.lower() in doc.text.lower():\n",
        "            matches.append(entity)\n",
        "    return list(set(matches))\n",
        "\n",
        "# Combine spaCy NER + keyword match\n",
        "def extract_entities(text):\n",
        "    doc = nlp(text)\n",
        "    ner_entities = [ent.text for ent in doc.ents if ent.label_ in ['ORG', 'PRODUCT']]\n",
        "    keyword_entities = keyword_match(doc)\n",
        "    return list(set(ner_entities + keyword_entities))\n",
        "\n",
        "# Sample data\n",
        "\n",
        "\n",
        "df_filtered['extracted_entities'] = df_filtered['cleaned_review'].apply(extract_entities)\n",
        "\n",
        "print(df_filtered)"
      ]
    },
    {
      "cell_type": "code",
      "execution_count": null,
      "id": "d2fffff2-2836-416a-859a-a47bffd27f8a",
      "metadata": {
        "id": "d2fffff2-2836-416a-859a-a47bffd27f8a",
        "outputId": "7939d3a1-b170-4cd9-a45c-54406b6607cc"
      },
      "outputs": [
        {
          "name": "stdout",
          "output_type": "stream",
          "text": [
            "Defaulting to user installation because normal site-packages is not writeable\n",
            "Collecting vader\n",
            "  Downloading vader-0.0.3-py3-none-any.whl.metadata (2.3 kB)\n",
            "Requirement already satisfied: scikit-learn in c:\\users\\dell\\appdata\\roaming\\python\\python312\\site-packages (from vader) (1.6.1)\n",
            "Requirement already satisfied: numpy in c:\\users\\dell\\appdata\\roaming\\python\\python312\\site-packages (from vader) (2.1.3)\n",
            "Requirement already satisfied: scipy in c:\\users\\dell\\appdata\\roaming\\python\\python312\\site-packages (from vader) (1.15.1)\n",
            "Collecting sonopy (from vader)\n",
            "  Downloading sonopy-0.1.2.tar.gz (3.3 kB)\n",
            "  Installing build dependencies: started\n",
            "  Installing build dependencies: finished with status 'done'\n",
            "  Getting requirements to build wheel: started\n",
            "  Getting requirements to build wheel: finished with status 'done'\n",
            "  Preparing metadata (pyproject.toml): started\n",
            "  Preparing metadata (pyproject.toml): finished with status 'done'\n",
            "Requirement already satisfied: joblib>=1.2.0 in c:\\users\\dell\\appdata\\roaming\\python\\python312\\site-packages (from scikit-learn->vader) (1.4.2)\n",
            "Requirement already satisfied: threadpoolctl>=3.1.0 in c:\\users\\dell\\appdata\\roaming\\python\\python312\\site-packages (from scikit-learn->vader) (3.5.0)\n",
            "Downloading vader-0.0.3-py3-none-any.whl (4.8 MB)\n",
            "   ---------------------------------------- 0.0/4.8 MB ? eta -:--:--\n",
            "   ------ --------------------------------- 0.8/4.8 MB 6.7 MB/s eta 0:00:01\n",
            "   ---------- ----------------------------- 1.3/4.8 MB 3.1 MB/s eta 0:00:02\n",
            "   ----------------- ---------------------- 2.1/4.8 MB 3.9 MB/s eta 0:00:01\n",
            "   ----------------- ---------------------- 2.1/4.8 MB 3.9 MB/s eta 0:00:01\n",
            "   ------------------- -------------------- 2.4/4.8 MB 2.3 MB/s eta 0:00:02\n",
            "   -------------------------- ------------- 3.1/4.8 MB 2.6 MB/s eta 0:00:01\n",
            "   -------------------------- ------------- 3.1/4.8 MB 2.6 MB/s eta 0:00:01\n",
            "   -------------------------- ------------- 3.1/4.8 MB 2.6 MB/s eta 0:00:01\n",
            "   -------------------------- ------------- 3.1/4.8 MB 2.6 MB/s eta 0:00:01\n",
            "   ---------------------------- ----------- 3.4/4.8 MB 1.6 MB/s eta 0:00:01\n",
            "   ------------------------------------- -- 4.5/4.8 MB 1.9 MB/s eta 0:00:01\n",
            "   ---------------------------------------- 4.8/4.8 MB 2.0 MB/s eta 0:00:00\n",
            "Building wheels for collected packages: sonopy\n",
            "  Building wheel for sonopy (pyproject.toml): started\n",
            "  Building wheel for sonopy (pyproject.toml): finished with status 'done'\n",
            "  Created wheel for sonopy: filename=sonopy-0.1.2-py3-none-any.whl size=2906 sha256=366deb1ee6fbb1b9e930551dd7f3195bda2e82ff316630c0ce0d428bebdcab3a\n",
            "  Stored in directory: c:\\users\\dell\\appdata\\local\\pip\\cache\\wheels\\0e\\10\\1a\\c32740bfd1dca898103c721f32ab1769a9a14ee6d1cba51a62\n",
            "Successfully built sonopy\n",
            "Installing collected packages: sonopy, vader\n",
            "Successfully installed sonopy-0.1.2 vader-0.0.3\n"
          ]
        },
        {
          "name": "stderr",
          "output_type": "stream",
          "text": [
            "\n",
            "[notice] A new release of pip is available: 24.2 -> 25.0.1\n",
            "[notice] To update, run: python.exe -m pip install --upgrade pip\n"
          ]
        }
      ],
      "source": [
        "!pip install vader"
      ]
    },
    {
      "cell_type": "code",
      "execution_count": null,
      "id": "c95acf40-189e-428f-874d-b78d81f809e3",
      "metadata": {
        "id": "c95acf40-189e-428f-874d-b78d81f809e3",
        "outputId": "843d5ede-feb4-4122-e487-0093139cb413"
      },
      "outputs": [
        {
          "name": "stdout",
          "output_type": "stream",
          "text": [
            "Defaulting to user installation because normal site-packages is not writeable\n",
            "Collecting vaderSentiment\n",
            "  Downloading vaderSentiment-3.3.2-py2.py3-none-any.whl.metadata (572 bytes)\n",
            "Requirement already satisfied: requests in c:\\users\\dell\\appdata\\roaming\\python\\python312\\site-packages (from vaderSentiment) (2.32.3)\n",
            "Requirement already satisfied: charset-normalizer<4,>=2 in c:\\users\\dell\\appdata\\roaming\\python\\python312\\site-packages (from requests->vaderSentiment) (3.4.0)\n",
            "Requirement already satisfied: idna<4,>=2.5 in c:\\users\\dell\\appdata\\roaming\\python\\python312\\site-packages (from requests->vaderSentiment) (3.10)\n",
            "Requirement already satisfied: urllib3<3,>=1.21.1 in c:\\users\\dell\\appdata\\roaming\\python\\python312\\site-packages (from requests->vaderSentiment) (2.2.3)\n",
            "Requirement already satisfied: certifi>=2017.4.17 in c:\\users\\dell\\appdata\\roaming\\python\\python312\\site-packages (from requests->vaderSentiment) (2024.8.30)\n",
            "Downloading vaderSentiment-3.3.2-py2.py3-none-any.whl (125 kB)\n",
            "Installing collected packages: vaderSentiment\n",
            "Successfully installed vaderSentiment-3.3.2\n"
          ]
        },
        {
          "name": "stderr",
          "output_type": "stream",
          "text": [
            "\n",
            "[notice] A new release of pip is available: 24.2 -> 25.0.1\n",
            "[notice] To update, run: python.exe -m pip install --upgrade pip\n"
          ]
        }
      ],
      "source": [
        "!pip install vaderSentiment"
      ]
    },
    {
      "cell_type": "code",
      "execution_count": null,
      "id": "bae8e602-ee46-46f2-baf2-2ca1b17d8b5e",
      "metadata": {
        "id": "bae8e602-ee46-46f2-baf2-2ca1b17d8b5e"
      },
      "outputs": [],
      "source": [
        "df_filtered.to_csv('FitBit_NER_updated.csv', index = False)"
      ]
    },
    {
      "cell_type": "code",
      "execution_count": null,
      "id": "3ccdc9d3-c7b6-4f03-9b6d-d42902329fe5",
      "metadata": {
        "id": "3ccdc9d3-c7b6-4f03-9b6d-d42902329fe5"
      },
      "outputs": [],
      "source": [
        "df_new = pd.read_csv(r\"C:\\Users\\DELL\\FitBit_NER_updated.csv\")"
      ]
    },
    {
      "cell_type": "code",
      "execution_count": null,
      "id": "52ac3f46-63a4-45a1-a21f-707663c4afc0",
      "metadata": {
        "id": "52ac3f46-63a4-45a1-a21f-707663c4afc0",
        "outputId": "18ba45cb-cbe5-4e92-eafd-8499b7674ac9"
      },
      "outputs": [
        {
          "name": "stderr",
          "output_type": "stream",
          "text": [
            "100%|████████████████████████████████████████████████████████████████████████| 157017/157017 [00:18<00:00, 8536.49it/s]\n"
          ]
        }
      ],
      "source": [
        "#Generating Sentiment score\n",
        "from vaderSentiment.vaderSentiment import SentimentIntensityAnalyzer\n",
        "\n",
        "analyzer = SentimentIntensityAnalyzer()\n",
        "\n",
        "def get_sentiment_score(text):\n",
        "    score = analyzer.polarity_scores(text)\n",
        "    return score['compound']  # ranges from -1 (negative) to +1 (positive)\n",
        "\n",
        "# Apply with progress bar\n",
        "from tqdm import tqdm\n",
        "tqdm.pandas()\n",
        "\n",
        "df_new['sentiment_score'] = df_new['cleaned_review'].progress_apply(get_sentiment_score)"
      ]
    },
    {
      "cell_type": "code",
      "execution_count": null,
      "id": "fde82550-5193-4021-84dd-d1c977fde7a8",
      "metadata": {
        "id": "fde82550-5193-4021-84dd-d1c977fde7a8",
        "outputId": "b5b13d94-1a1c-4a97-8061-33803d2e27b9"
      },
      "outputs": [
        {
          "data": {
            "text/html": [
              "<div>\n",
              "<style scoped>\n",
              "    .dataframe tbody tr th:only-of-type {\n",
              "        vertical-align: middle;\n",
              "    }\n",
              "\n",
              "    .dataframe tbody tr th {\n",
              "        vertical-align: top;\n",
              "    }\n",
              "\n",
              "    .dataframe thead th {\n",
              "        text-align: right;\n",
              "    }\n",
              "</style>\n",
              "<table border=\"1\" class=\"dataframe\">\n",
              "  <thead>\n",
              "    <tr style=\"text-align: right;\">\n",
              "      <th></th>\n",
              "      <th>review_id</th>\n",
              "      <th>user_name</th>\n",
              "      <th>review_description</th>\n",
              "      <th>rating</th>\n",
              "      <th>thumbs_up</th>\n",
              "      <th>cleaned_review</th>\n",
              "      <th>extracted_entities</th>\n",
              "      <th>sentiment_score</th>\n",
              "    </tr>\n",
              "  </thead>\n",
              "  <tbody>\n",
              "    <tr>\n",
              "      <th>0</th>\n",
              "      <td>d88c0a81-2611-4f53-b0c4-8f1a2442b6ac</td>\n",
              "      <td>Jeremy Chandler</td>\n",
              "      <td>Google already starting to sunset features and...</td>\n",
              "      <td>2</td>\n",
              "      <td>0</td>\n",
              "      <td>google already starting sunset features replac...</td>\n",
              "      <td>['Apple Watch', 'Google', 'google']</td>\n",
              "      <td>-0.9022</td>\n",
              "    </tr>\n",
              "    <tr>\n",
              "      <th>1</th>\n",
              "      <td>22205257-f36d-464d-ba47-4ef7283071a3</td>\n",
              "      <td>Stu McConnell</td>\n",
              "      <td>Whatever you have done with the latest update ...</td>\n",
              "      <td>1</td>\n",
              "      <td>0</td>\n",
              "      <td>whatever done latest update ruined things yet ...</td>\n",
              "      <td>[]</td>\n",
              "      <td>-0.4215</td>\n",
              "    </tr>\n",
              "    <tr>\n",
              "      <th>2</th>\n",
              "      <td>c975c4ab-1a72-4e0f-a579-021ffbbe2d50</td>\n",
              "      <td>Emer Waters</td>\n",
              "      <td>Challenges with friends/family were removed, s...</td>\n",
              "      <td>1</td>\n",
              "      <td>0</td>\n",
              "      <td>challenges friendsfamily removed fitbit pretty...</td>\n",
              "      <td>['Fitbit']</td>\n",
              "      <td>0.1779</td>\n",
              "    </tr>\n",
              "    <tr>\n",
              "      <th>3</th>\n",
              "      <td>33504376-5d25-4021-b1ba-d04718e5a1eb</td>\n",
              "      <td>Hitesh Sharma</td>\n",
              "      <td>Watch faces not visible in the app, always sho...</td>\n",
              "      <td>1</td>\n",
              "      <td>0</td>\n",
              "      <td>watch faces visible app always shows error oop...</td>\n",
              "      <td>[]</td>\n",
              "      <td>-0.0516</td>\n",
              "    </tr>\n",
              "    <tr>\n",
              "      <th>4</th>\n",
              "      <td>8f836e12-5adf-46a3-8d1f-e9c1d159d75c</td>\n",
              "      <td>Tegan Laing</td>\n",
              "      <td>This app used to be pretty good and I always p...</td>\n",
              "      <td>1</td>\n",
              "      <td>0</td>\n",
              "      <td>app used pretty good always paid premium remov...</td>\n",
              "      <td>['Fitbit']</td>\n",
              "      <td>0.8934</td>\n",
              "    </tr>\n",
              "  </tbody>\n",
              "</table>\n",
              "</div>"
            ],
            "text/plain": [
              "                              review_id        user_name  \\\n",
              "0  d88c0a81-2611-4f53-b0c4-8f1a2442b6ac  Jeremy Chandler   \n",
              "1  22205257-f36d-464d-ba47-4ef7283071a3    Stu McConnell   \n",
              "2  c975c4ab-1a72-4e0f-a579-021ffbbe2d50      Emer Waters   \n",
              "3  33504376-5d25-4021-b1ba-d04718e5a1eb    Hitesh Sharma   \n",
              "4  8f836e12-5adf-46a3-8d1f-e9c1d159d75c      Tegan Laing   \n",
              "\n",
              "                                  review_description  rating  thumbs_up  \\\n",
              "0  Google already starting to sunset features and...       2          0   \n",
              "1  Whatever you have done with the latest update ...       1          0   \n",
              "2  Challenges with friends/family were removed, s...       1          0   \n",
              "3  Watch faces not visible in the app, always sho...       1          0   \n",
              "4  This app used to be pretty good and I always p...       1          0   \n",
              "\n",
              "                                      cleaned_review  \\\n",
              "0  google already starting sunset features replac...   \n",
              "1  whatever done latest update ruined things yet ...   \n",
              "2  challenges friendsfamily removed fitbit pretty...   \n",
              "3  watch faces visible app always shows error oop...   \n",
              "4  app used pretty good always paid premium remov...   \n",
              "\n",
              "                    extracted_entities  sentiment_score  \n",
              "0  ['Apple Watch', 'Google', 'google']          -0.9022  \n",
              "1                                   []          -0.4215  \n",
              "2                           ['Fitbit']           0.1779  \n",
              "3                                   []          -0.0516  \n",
              "4                           ['Fitbit']           0.8934  "
            ]
          },
          "execution_count": 9,
          "metadata": {},
          "output_type": "execute_result"
        }
      ],
      "source": [
        "df_new.head()"
      ]
    },
    {
      "cell_type": "code",
      "execution_count": null,
      "id": "9b71fa34-2dea-448f-b9e1-8def5013aa6d",
      "metadata": {
        "id": "9b71fa34-2dea-448f-b9e1-8def5013aa6d",
        "outputId": "b75ed0ba-5ecf-4918-b0b2-e83e021c8616"
      },
      "outputs": [
        {
          "data": {
            "text/plain": [
              "55083"
            ]
          },
          "execution_count": 22,
          "metadata": {},
          "output_type": "execute_result"
        }
      ],
      "source": [
        "df_new['user_name'].nunique()"
      ]
    },
    {
      "cell_type": "code",
      "execution_count": null,
      "id": "e398e0dc-b042-4488-8340-50c4720a1a8c",
      "metadata": {
        "id": "e398e0dc-b042-4488-8340-50c4720a1a8c",
        "outputId": "d48c6440-c4b0-4416-db5c-70b741bfecff"
      },
      "outputs": [
        {
          "data": {
            "text/plain": [
              "user_name\n",
              "A Google user       99974\n",
              "M                      12\n",
              "Sarah                  11\n",
              "Michelle               11\n",
              "J                      11\n",
              "                    ...  \n",
              "Necole Seawright        1\n",
              "Therese Sabarre         1\n",
              "Angie Z                 1\n",
              "Amy Whitaker            1\n",
              "Hitesh Sharma           1\n",
              "Name: count, Length: 55083, dtype: int64"
            ]
          },
          "execution_count": 23,
          "metadata": {},
          "output_type": "execute_result"
        }
      ],
      "source": [
        "df_new['user_name'].value_counts()"
      ]
    },
    {
      "cell_type": "code",
      "execution_count": null,
      "id": "a6467f6b-acac-493f-a321-de10e7794ba0",
      "metadata": {
        "id": "a6467f6b-acac-493f-a321-de10e7794ba0"
      },
      "outputs": [],
      "source": [
        "df_max_rated = df_new[(df_new['thumbs_up'] >= 10) & (df_new['rating'] == 4)]"
      ]
    },
    {
      "cell_type": "code",
      "execution_count": null,
      "id": "af53bdf9-b1fd-4eb1-889d-3527678d694b",
      "metadata": {
        "id": "af53bdf9-b1fd-4eb1-889d-3527678d694b",
        "outputId": "40a9d8d7-7872-4af9-d9be-ea0b0153c5da"
      },
      "outputs": [
        {
          "data": {
            "text/plain": [
              "np.int64(443)"
            ]
          },
          "execution_count": 26,
          "metadata": {},
          "output_type": "execute_result"
        }
      ],
      "source": [
        "df_max_rated['review_description'].count()"
      ]
    },
    {
      "cell_type": "code",
      "execution_count": null,
      "id": "581e6a55-ae89-4c5e-ad3e-bd1749b32d2a",
      "metadata": {
        "id": "581e6a55-ae89-4c5e-ad3e-bd1749b32d2a"
      },
      "outputs": [],
      "source": [
        "all_reviews = \"\\n\".join(df_max_rated['review_description'].tolist())"
      ]
    },
    {
      "cell_type": "code",
      "execution_count": null,
      "id": "f459f15c-e829-4b77-91b1-c24818cd6293",
      "metadata": {
        "id": "f459f15c-e829-4b77-91b1-c24818cd6293"
      },
      "outputs": [],
      "source": [
        "client = OpenAI(api_key='XXXX')"
      ]
    },
    {
      "cell_type": "code",
      "execution_count": null,
      "id": "e65f9cd6-91b7-47be-a3d1-db21bc701083",
      "metadata": {
        "id": "e65f9cd6-91b7-47be-a3d1-db21bc701083"
      },
      "outputs": [],
      "source": [
        "from tqdm import tqdm\n",
        "tqdm.pandas()\n",
        "\n",
        "# Your GPT-based function (already defined)\n",
        "def extract_insights(summary_text):\n",
        "    try:\n",
        "        response = client.chat.completions.create(\n",
        "            model=\"gpt-4o-mini\",\n",
        "            messages=[\n",
        "                {\"role\": \"system\", \"content\": \"You are an expert product analyst for Fitbit reviewing customer feedback.\"},\n",
        "                {\"role\": \"user\", \"content\": f\"\"\"Given the summarized customer reviews below, extract the following:\n",
        "\n",
        "1. 🐞 Most Common Issues in detail.\n",
        "2. 🔧 Suggestions or Feedback for Improvement (e.g. battery life, sync issues)\n",
        "3. 📊 Mentions or comparisons with Competitors (e.g. Apple Watch, Mi Band, Samsung watch etc.)\n",
        "\n",
        "\n",
        "\n",
        "Summarized Reviews:\n",
        "\\\"\\\"\\\"{summary_text}\\\"\\\"\\\"\"\"\"}\n",
        "            ],\n",
        "            temperature=0.7,\n",
        "            max_tokens=1500\n",
        "        )\n",
        "        return response.choices[0].message.content.strip()\n",
        "    except Exception as e:\n",
        "        print(f\"Error during GPT insight extraction: {e}\")\n",
        "        return None\n"
      ]
    },
    {
      "cell_type": "code",
      "execution_count": null,
      "id": "aa004f5a-a5af-4907-a8e5-ee0fe105ab94",
      "metadata": {
        "id": "aa004f5a-a5af-4907-a8e5-ee0fe105ab94",
        "outputId": "0a9047df-a12b-4024-ba3b-ba63e89b9514"
      },
      "outputs": [
        {
          "name": "stdout",
          "output_type": "stream",
          "text": [
            "Based on the summarized customer reviews, here's the extracted information:\n",
            "\n",
            "### 1. 🧩 Feature Requests\n",
            "- Dark theme option for the app.\n",
            "- Ability to log non-stereotypical fitness activities (e.g., lawn mowing, dance).\n",
            "- Improved food database with more searchable items and the ability to add meals/recipes.\n",
            "- Option to view and edit historical data easily, especially in sleep tracking and food logging.\n",
            "- Automatic adjustment of daily goals based on user performance.\n",
            "- Alarms for water intake reminders.\n",
            "- Customizable alarms and notifications for specific activities.\n",
            "- More dynamic use of app tiles to prioritize frequently used metrics.\n",
            "- Ability to record multiple devices without having to re-pair each time.\n",
            "\n",
            "### 2. 🔧 Suggestions or Feedback for Improvement\n",
            "- Improve battery life, especially after updates.\n",
            "- Fix syncing issues that require frequent reboots or app reinstallation.\n",
            "- Ensure accurate heart rate and calorie tracking, especially during workouts.\n",
            "- Allow automatic timezone updates when traveling.\n",
            "- Fix issues with food logging, specifically the inability to edit or delete items easily.\n",
            "- Enhance notifications for incoming calls and texts to accurately display caller information.\n",
            "- Improve app performance and responsiveness to prevent lag.\n",
            "- Enhance the connectivity for Bluetooth to avoid losing sync.\n",
            "\n",
            "### 3. 📊 Mentions or Comparisons with Competitors\n",
            "- Customers often reference the Apple Watch and MyFitnessPal as competitors, noting features like meal logging and ease of use.\n",
            "- Positive mentions of the integration with MyFitnessPal for a more comprehensive food tracking experience.\n",
            "- Some users express a desire for features similar to those offered by other fitness tracking apps.\n",
            "\n",
            "### 4. 🐞 Most Common Issues\n",
            "- Frequent syncing failures with devices, leading to frustration.\n",
            "- Inaccurate tracking of heart rate and calorie expenditure.\n",
            "- Problems with the food database, including incorrect entries and lack of certain items.\n",
            "- Bugs introduced after updates that disrupt functionality.\n",
            "- Notifications for calls and texts not working or displaying incorrectly.\n",
            "\n",
            "### 5. Most Loved Features/Things\n",
            "- The ability to track sleep patterns and receive insights about sleep quality.\n",
            "- User-friendly interface and overall app design, particularly in recent updates.\n",
            "- Integration with other health and fitness apps.\n",
            "- Features that promote accountability and motivate users to maintain an active lifestyle.\n",
            "- Community challenges that allow for friendly competition among users.\n",
            "\n",
            "This summary highlights key points from customer feedback, emphasizing areas for improvement, desired features, and aspects that users appreciate about the Fitbit app and devices.\n"
          ]
        }
      ],
      "source": [
        "summary_report = extract_insights(all_reviews)\n",
        "print(summary_report)"
      ]
    },
    {
      "cell_type": "code",
      "execution_count": null,
      "id": "638e29e8-8f83-4584-a48d-14cab9dece2c",
      "metadata": {
        "id": "638e29e8-8f83-4584-a48d-14cab9dece2c"
      },
      "outputs": [],
      "source": [
        "df_min_rated = df_new[(df_new['thumbs_up'] >= 50) & (df_new['rating'] < 4)]"
      ]
    },
    {
      "cell_type": "code",
      "execution_count": null,
      "id": "ba01c807-1ed5-4c4a-89f8-6396f7bfbe7f",
      "metadata": {
        "id": "ba01c807-1ed5-4c4a-89f8-6396f7bfbe7f"
      },
      "outputs": [],
      "source": [
        "all_reviews_min = \"\\n\".join(df_min_rated['review_description'].tolist())"
      ]
    },
    {
      "cell_type": "code",
      "execution_count": null,
      "id": "c8b41344-1dfb-494d-a19a-6b6b42a01958",
      "metadata": {
        "id": "c8b41344-1dfb-494d-a19a-6b6b42a01958",
        "outputId": "12ad8cca-b73b-443c-bd2f-907d328c0c9e"
      },
      "outputs": [
        {
          "name": "stdout",
          "output_type": "stream",
          "text": [
            "Based on the summarized customer reviews, here is the requested information extracted:\n",
            "\n",
            "1. **🐞 Most Common Issues in Detail:**\n",
            "   - **Syncing Problems:** A significant number of users report that their devices fail to sync with the app, displaying messages like \"Device not found\" or \"Cannot connect.\" This issue has persisted for many users over extended periods, with some stating that they have to reinstall the app or restart their devices frequently to briefly regain syncing capabilities.\n",
            "   - **Bluetooth Connectivity Issues:** Users have noted problems with Bluetooth connections, where the app struggles to find the connected devices, causing frustration. Many have had to reset their devices or uninstall and reinstall the app multiple times.\n",
            "   - **Time and Date Errors:** Some users report that their devices display incorrect time, which is not corrected without syncing, rendering the device almost useless.\n",
            "   - **Notifications Failure:** Users have expressed dissatisfaction with the notifications feature, which often fails to deliver text or call notifications to the devices, despite being set correctly in the app. This is particularly frustrating for users who rely on their devices for timely notifications.\n",
            "   - **Inaccurate Data Tracking:** There are complaints about the accuracy of step counts, heart rate monitoring, and sleep tracking. Some users notice discrepancies in the data logged, such as incorrect step counts or sleep records.\n",
            "   - **Inconsistent User Experience:** The app's interface has been criticized for being unintuitive and convoluted, making it hard for users to navigate and find the information they need.\n",
            "\n",
            "2. **🔧 Suggestions or Feedback for Improvement:**\n",
            "   - **Enhanced Syncing Reliability:** Users want a more reliable syncing process that does not require frequent reboots, reinstallations, or manual interventions.\n",
            "   - **Better Bluetooth Functionality:** Improvements in Bluetooth connectivity to ensure that devices can easily pair and maintain connections without repeated efforts.\n",
            "   - **Accurate Time Synchronization:** Fix the automatic time zone and time synchronization functions to prevent time discrepancies on the devices.\n",
            "   - **Notification Improvements:** Address the issues with notifications not being delivered reliably to the devices and ensure that users can easily manage notification settings.\n",
            "   - **User-Friendly Interface:** Streamline the app's interface to make it more intuitive, allowing users to access features and data easily without excessive navigation.\n",
            "   - **Feature Retention:** Users expressed discontent over the removal of certain features (like challenges), suggesting that Fitbit should either retain popular features or provide clear communication about changes.\n",
            "\n",
            "3. **📊 Mentions or Comparisons with Competitors:**\n",
            "   - **Garmin & Apple Watch:** Several users mentioned that they are considering switching to Garmin or Apple watches due to ongoing issues with Fitbit's app and syncing problems. They express dissatisfaction with Fitbit's performance and reliability compared to competitors.\n",
            "   - **MyFitnessPal:** Users mentioned using MyFitnessPal for food logging due to Fitbit's food tracking being unreliable and lacking features.\n",
            "   - **Xiaomi Mi Band:** One user expressed regret for not opting for a Xiaomi Mi Band instead, indicating it may have been more reliable than their Fitbit.\n",
            "   - **Samsung Smartwatch:** Users are considering switching to a Samsung smartwatch, expressing dissatisfaction with Fitbit's performance.\n",
            "  \n",
            "Overall, it is evident that the main issues revolve around syncing and connectivity, with a strong desire from users for improved reliability and functionality in the app, as well as comparisons to other fitness tracking brands.\n"
          ]
        }
      ],
      "source": [
        "summary_report_min = extract_insights(all_reviews_min)\n",
        "print(summary_report_min)"
      ]
    },
    {
      "cell_type": "code",
      "execution_count": null,
      "id": "f1101350-9a6a-4b04-9956-9a05e3eab5cb",
      "metadata": {
        "id": "f1101350-9a6a-4b04-9956-9a05e3eab5cb"
      },
      "outputs": [],
      "source": []
    }
  ],
  "metadata": {
    "kernelspec": {
      "display_name": "Python 3 (ipykernel)",
      "language": "python",
      "name": "python3"
    },
    "language_info": {
      "codemirror_mode": {
        "name": "ipython",
        "version": 3
      },
      "file_extension": ".py",
      "mimetype": "text/x-python",
      "name": "python",
      "nbconvert_exporter": "python",
      "pygments_lexer": "ipython3",
      "version": "3.12.6"
    },
    "colab": {
      "provenance": []
    }
  },
  "nbformat": 4,
  "nbformat_minor": 5
}